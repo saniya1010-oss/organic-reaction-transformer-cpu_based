{
 "cells": [
  {
   "cell_type": "markdown",
   "id": "ac81bfec-a6c3-48fe-a560-a7ae164dd4c6",
   "metadata": {},
   "source": [
    "Working with Open-NMT-py requires to know, what tokens exists (here its sequence of atoms and bonds), how long can the input/out sequence be, where the training, validation data is, and how to handle tokenization to adapt to any language translation.\n",
    "\n",
    "Source: https://opennmt.net/OpenNMT-py/options/build_vocab.html"
   ]
  },
  {
   "cell_type": "code",
   "execution_count": null,
   "id": "fdd4ec49-efd4-415b-9919-6e7aeaf3d652",
   "metadata": {},
   "outputs": [],
   "source": [
    "config = {\n",
    "    'save_data': 'uspto_50k_run',\n",
    "    'src_vocab': 'uspto_50k_run/vocab.src',\n",
    "    'tgt_vocab': 'uspto_50k_run/vocab.tgt',\n",
    "    'overwrite': True,\n",
    "    'share_vocab': True,\n",
    "    'data': {\n",
    "        'corpus-1': {\n",
    "            'path_src': 'uspto_50k_train_reactants.txt',\n",
    "            'path_tgt': 'uspto_50k_train_products.txt',\n",
    "        },\n",
    "        'valid': {\n",
    "            'path_src': 'uspto_50k_val_reactants.txt',\n",
    "            'path_tgt': 'uspto_50k_val_products.txt',\n",
    "        }\n",
    "    }\n",
    "}\n",
    "\n",
    "# Create folder and save YAML file\n",
    "folder = 'example_run'\n",
    "os.makedirs(folder, exist_ok=True)\n",
    "with open(os.path.join(folder, 'run_config.yaml'), 'w') as f:\n",
    "    yaml.dump(config, f)\n",
    "\n",
    "print(\"run_config.yaml created successfully!\")"
   ]
  },
  {
   "cell_type": "code",
   "execution_count": null,
   "id": "cff98795-2970-47fb-9a7b-ab5d804a0137",
   "metadata": {},
   "outputs": [],
   "source": [
    "os.path.exists(\"example_run/run_config.yaml\") #checking if the config file has been created or not"
   ]
  },
  {
   "cell_type": "code",
   "execution_count": null,
   "id": "4c039986-160c-4b8c-acbe-254666d54341",
   "metadata": {},
   "outputs": [],
   "source": [
    "!python -m onmt.bin.build_vocab -config example_run/run_config.yaml -n_sample -1"
   ]
  }
 ],
 "metadata": {
  "kernelspec": {
   "display_name": "Python 3 (ipykernel)",
   "language": "python",
   "name": "python3"
  },
  "language_info": {
   "codemirror_mode": {
    "name": "ipython",
    "version": 3
   },
   "file_extension": ".py",
   "mimetype": "text/x-python",
   "name": "python",
   "nbconvert_exporter": "python",
   "pygments_lexer": "ipython3",
   "version": "3.12.4"
  }
 },
 "nbformat": 4,
 "nbformat_minor": 5
}
