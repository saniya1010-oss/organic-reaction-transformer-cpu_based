{
 "cells": [
  {
   "cell_type": "markdown",
   "id": "b63f510b-d059-497e-996e-5ed4240c51e8",
   "metadata": {},
   "source": [
    "# Training the model"
   ]
  },
  {
   "cell_type": "markdown",
   "id": "eedaaf2b-78cb-478e-878b-00b98ee32e74",
   "metadata": {},
   "source": [
    "Building a Transformer model from scratch on CPU can take hours. Considering this project an experimentation, we will create a small transformer model, with hit and trial method to choose the right train_steps and choose the right one. "
   ]
  },
  {
   "cell_type": "markdown",
   "id": "6a6cb4bf-0f5d-4fcf-ae17-ecd991e4aa0e",
   "metadata": {},
   "source": [
    "```yaml\n",
    "world_size: 1\n",
    "gpu_ranks: [0]  # Use CPU by removing or modifying this\n",
    "train_steps: 20000\n",
    "save_model: example_run/model\n",
    "save_checkpoint_steps: 1000\n",
    "batch_size: 64\n",
    "valid_steps: 10000\n",
    "report_every: 100"
   ]
  },
  {
   "cell_type": "code",
   "execution_count": null,
   "id": "eee48dfc-f4d4-45ff-8184-1b5232d2ec43",
   "metadata": {},
   "outputs": [],
   "source": [
    "!onmt_train -config example_run/run_config.yaml \\\n",
    "-seed 42 \\\n",
    "-batch_type tokens -batch_size 64 \\\n",
    "-accum_count 2 \\\n",
    "-optim adam -adam_beta2 0.998 \\\n",
    "-decay_method noam -warmup_steps 4000 \\\n",
    "-learning_rate 1 \\\n",
    "-label_smoothing 0.0 \\\n",
    "-layers 2 -rnn_size 256 -word_vec_size 256 \\\n",
    "-encoder_type transformer -decoder_type transformer \\\n",
    "-dropout 0.1 -position_encoding \\\n",
    "-share_embeddings \\\n",
    "-transformer_ff 1024 \\\n",
    "-tensorboard True -tensorboard_log_dir log_dir"
   ]
  },
  {
   "cell_type": "code",
   "execution_count": null,
   "id": "8cc0b9ee-0685-483d-b586-1abb1eae80a9",
   "metadata": {},
   "outputs": [],
   "source": [
    "!tensorboard --logdir log_dir"
   ]
  }
 ],
 "metadata": {
  "kernelspec": {
   "display_name": "Python 3 (ipykernel)",
   "language": "python",
   "name": "python3"
  },
  "language_info": {
   "codemirror_mode": {
    "name": "ipython",
    "version": 3
   },
   "file_extension": ".py",
   "mimetype": "text/x-python",
   "name": "python",
   "nbconvert_exporter": "python",
   "pygments_lexer": "ipython3",
   "version": "3.12.4"
  }
 },
 "nbformat": 4,
 "nbformat_minor": 5
}
